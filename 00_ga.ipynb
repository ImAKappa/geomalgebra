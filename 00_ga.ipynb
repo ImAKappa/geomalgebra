{
 "cells": [
  {
   "cell_type": "code",
   "execution_count": null,
   "metadata": {},
   "outputs": [],
   "source": [
    "#| default_exp ga"
   ]
  },
  {
   "cell_type": "markdown",
   "metadata": {},
   "source": [
    "# Geometric Algebra\n",
    "\n",
    "> Geometric Algebra (GA) is a mathematical framework for manipulating geometrical entities. It is similar to linear algebra, but more unified and less quirky."
   ]
  },
  {
   "cell_type": "markdown",
   "metadata": {},
   "source": [
    "In Linear Algebra, we manipulate vectors and matrics in all sorts of ways to solve equations, perform transformations (like translations, rotations), and even distinguish dogs from cats. It's a very powerful framework, but it does have some quirks, like how the [cross product is only well-defined in 3 and 7 dimensions](https://math.stackexchange.com/questions/185991/is-the-vector-cross-product-only-defined-for-3d), or how vectors are used to represent high-dimensional things even though vectors are really still just one dimensional."
   ]
  },
  {
   "cell_type": "markdown",
   "metadata": {},
   "source": [
    "In Geometric Algebra, vector products just work for arbitrary dimensions. Plus, all sorts of seemingly distinct entities like quarternions, and even imaginary numbers, just spontaneously arise from a few simple multiplication rules. I don't want to spoil too much at this point, so that's all I will say for now."
   ]
  },
  {
   "cell_type": "markdown",
   "metadata": {},
   "source": [
    "## Reading"
   ]
  },
  {
   "cell_type": "markdown",
   "metadata": {},
   "source": [
    "After reading my explanations and code, I encourage you to also read specific sections from the \"Geometric Algebra Primer\". The accompanied reading for this notebook is \"Chapter 1: Introduction\"."
   ]
  },
  {
   "cell_type": "markdown",
   "metadata": {},
   "source": [
    "## What's Next?"
   ]
  },
  {
   "cell_type": "markdown",
   "metadata": {},
   "source": [
    "Next, we discuss subspaces."
   ]
  },
  {
   "cell_type": "code",
   "execution_count": null,
   "metadata": {},
   "outputs": [],
   "source": [
    "#| hide\n",
    "def foo(): pass"
   ]
  }
 ],
 "metadata": {
  "kernelspec": {
   "display_name": "Python 3.10.4 ('some2')",
   "language": "python",
   "name": "python3"
  }
 },
 "nbformat": 4,
 "nbformat_minor": 4
}
