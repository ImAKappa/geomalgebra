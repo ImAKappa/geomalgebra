{
 "cells": [
  {
   "cell_type": "code",
   "execution_count": null,
   "metadata": {},
   "outputs": [],
   "source": [
    "#|hide\n",
    "from geomalgebra.ga import *"
   ]
  },
  {
   "cell_type": "markdown",
   "metadata": {},
   "source": [
    "# geomalgebra\n",
    "\n",
    "> Geometric Algebra implementation in Python. Created for [Summer of Math Exposition 2](https://summerofmathexposition.substack.com/p/the-summer-of-math-exposition-is) competition."
   ]
  },
  {
   "cell_type": "markdown",
   "metadata": {},
   "source": [
    "## Overview"
   ]
  },
  {
   "cell_type": "markdown",
   "metadata": {},
   "source": [
    "The tutorial is organized roughly according to chapters 1 - 3 of Geometric Algebra Primer by Jaap Suter (2003). A copy of the pdf is included in the [repository](https://github.com/ImAKappa/geomalgebra). Suter explains the theory very well, so I wanted these notes to focus more on implementation.\n",
    "\n",
    "Some topics covered:\n",
    "\n",
    "- [x] Subspaces\n",
    "- [x] Basis Blades (scalar, vector, bivector)\n",
    "- [x] Multivectors\n",
    "- [x] Geometric Product"
   ]
  },
  {
   "cell_type": "markdown",
   "metadata": {},
   "source": [
    "## Install"
   ]
  },
  {
   "cell_type": "markdown",
   "metadata": {},
   "source": [
    "```sh\n",
    "git clone https://github.com/ImAKappa/some2.git\n",
    "\n",
    "conda create -n some2 python=3.10 --file some2-env.txt\n",
    "```\n",
    "\n",
    "Tested on Windows WSL2 for Python 3.10. The minimum supported Python version is 3.10, but can be adapted to 3.9 by modifying syntax for type hints and some standard library functions."
   ]
  },
  {
   "cell_type": "markdown",
   "metadata": {},
   "source": [
    "## Learn Geometric Algebra"
   ]
  },
  {
   "cell_type": "markdown",
   "metadata": {},
   "source": [
    "Beyond this tutorial, I recommend viewing these resources in the following order:\n",
    "\n",
    "* [Geometric Algebra Primer (2003)](http://www.jaapsuter.com/geometric-algebra.pdf): Very approachable. It's so great that I have included a copy in this repository. Throughout the tutorials I will refer to the relevant sections.\n",
    "\n",
    "* [Linear and Geometric Algebra (Alan Macdonald, 2011)](http://www.faculty.luther.edu/~macdonal/laga/). Great intro to the subject with lots of practice problems.\n",
    "\n",
    "* [Geometric Algebra (Thesis by Daniel Fontijne, 2007)](https://pure.uva.nl/ws/files/4375498/52687_fontijne.pdf): Straightforward intro to GA. Includes notes on implementation. See also [Geometric Algebra for Computer Science (Dorst, Fontijne, Mann, 2007-2009)](https://geometricalgebra.org/) which is a textbook that expands on the thesis.\n",
    "\n",
    "* [Bivector.net](https://bivector.net/tools.html): Basically the geometric algebra fanclub website. More explanations in the form of papers, conferences, code, and videos can be found here."
   ]
  },
  {
   "cell_type": "markdown",
   "metadata": {},
   "source": [
    "## Background"
   ]
  },
  {
   "cell_type": "markdown",
   "metadata": {},
   "source": [
    "Last year, I came across a kind of math called Geometric Algebra (GA).\n",
    "It was interesting because proponents said it's like linear algebra but more suitable for geometrical applications.\n",
    "I was a bit skeptical since it was a bit obscure, but figured why not try to learn it.\n",
    "\n",
    "The theory was not too bad to get the hang of, but it was much harder for me to grok numerical GA.\n",
    "In my head there was a big disconnect between symbolic manipulations of GA and corresponding computer implementations.\n",
    "I found many neat libraries like [Ganja.js](https://github.com/enkimute/ganja.js), [Clifford](https://github.com/pygae/clifford), and [Klein](https://github.com/jeremyong/klein).\n",
    "They were nice to use, but their implementations were a bit too complicated for me.\n",
    "I figured if I wanted to understand numerical GA better, I needed to try and implement my own GA library. \"But maybe later\" I said, not really knowing where to start.\n",
    "\n",
    "When 3Blue1Brown announced the SoME2, I found the motivation to actually start the project. It was a bit tricky to put together a GA implementation that was understandable, not only to myself, but to other people. Hopefully I succeeded, or at least got a few new people interested in GA. Of course, the repository won't be abandoned after the competition ends. My next goal is to explain and implement a very interesting flavour of geometric algebra called Plane-Based Geometric Algebra. But that's a project for future me."
   ]
  },
  {
   "cell_type": "markdown",
   "metadata": {},
   "source": []
  }
 ],
 "metadata": {
  "kernelspec": {
   "display_name": "Python 3.10.5 64-bit",
   "language": "python",
   "name": "python3"
  }
 },
 "nbformat": 4,
 "nbformat_minor": 4
}
