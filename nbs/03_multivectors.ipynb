{
 "cells": [
  {
   "cell_type": "code",
   "execution_count": null,
   "metadata": {},
   "outputs": [],
   "source": [
    "#| default_exp multivectors"
   ]
  },
  {
   "cell_type": "markdown",
   "metadata": {},
   "source": [
    "# Multivectors\n",
    "\n",
    "> **Summary**: Multivectors are a linear combination of basis blades."
   ]
  },
  {
   "cell_type": "code",
   "execution_count": null,
   "metadata": {},
   "outputs": [],
   "source": [
    "#| export\n",
    "from dataclasses import dataclass, field, InitVar\n",
    "from geomalgebra.basisblades import ga2d, BasisBlade"
   ]
  },
  {
   "cell_type": "code",
   "execution_count": null,
   "metadata": {},
   "outputs": [],
   "source": [
    "from dataclasses import dataclass, field, InitVar\n",
    "from geomalgebra.basisblades import ga2d, BasisBlade"
   ]
  },
  {
   "cell_type": "code",
   "execution_count": null,
   "metadata": {},
   "outputs": [],
   "source": [
    "# For convenience, we unpack the basis blades into the global scope\n",
    "scalar, e1, e2, e12 = ga2d"
   ]
  },
  {
   "cell_type": "markdown",
   "metadata": {},
   "source": [
    "Just like how complex numbers are a linear combination of real and imaginary numbers, a multivector is just a linear combination of weighted basis blades.\n",
    "\n",
    "For example, let $m$ be a multivector where $m = 3.0e_1 -2.3e_2 + 4.02e_{23}$"
   ]
  },
  {
   "cell_type": "markdown",
   "metadata": {},
   "source": [
    "## Implementation"
   ]
  },
  {
   "cell_type": "markdown",
   "metadata": {},
   "source": [
    "Again, we use a dataclass (they are incredibly useful!), but this time we need to use the `InitVar` type from the `dataclasses` module. It tells the dataclass decorator that a particular field should be passed only to the `__post_init__` method and not attached to the class.\n",
    "\n",
    "We need this for our implementation because we want to be able to construct a `Multivector` using a list of `BasisBlades`, but we don't actually want to store the basis blades as a list internally. A better data structure is a `dict`.\n",
    "\n",
    "The keys of the Multivector dictionary will be the basis blades."
   ]
  },
  {
   "cell_type": "code",
   "execution_count": null,
   "metadata": {},
   "outputs": [],
   "source": [
    "#|export\n",
    "@dataclass(frozen=True)\n",
    "class Multivector():\n",
    "    \"\"\"A Multivector is a linear combination of basis blades.\"\"\"\n",
    "    # InitVar variable is not set as class field, just sent to post_init method\n",
    "    basis_blades: InitVar[list[BasisBlade]] = None\n",
    "    blades: dict[int, BasisBlade] = field(init=False, default_factory=dict)\n",
    "    prettyprint: str = field(init=False, repr=False)\n",
    "\n",
    "    def __post_init__(self, basis_blades: list[BasisBlade]):\n",
    "        for bb in basis_blades:\n",
    "            if self.blades.get(bb.basis, False):\n",
    "                # If basis blade already exists, sum the weights of the existing and new basis blade\n",
    "                existing_bb = self.blades[bb.basis]\n",
    "                self.blades[bb.basis] = BasisBlade(existing_bb.weight + bb.weight, existing_bb.basis)\n",
    "            else:\n",
    "                # If basis blade doesn't exist, create a new key-value pair for that basis blade\n",
    "                self.blades[bb.basis] = bb\n",
    "        object.__setattr__(self, 'prettyprint', \" + \".join(str(b) for b in self.blades.values()))\n",
    "\n",
    "    def __str__(self) -> str:\n",
    "        return self.prettyprint"
   ]
  },
  {
   "cell_type": "code",
   "execution_count": null,
   "metadata": {},
   "outputs": [],
   "source": [
    "@dataclass(frozen=True)\n",
    "class Multivector():\n",
    "    \"\"\"A Multivector is a linear combination of basis blades.\"\"\"\n",
    "    # InitVar variable is not set as class field, just sent to post_init method\n",
    "    basis_blades: InitVar[list[BasisBlade]] = None\n",
    "    blades: dict[int, BasisBlade] = field(init=False, default_factory=dict)\n",
    "    prettyprint: str = field(init=False, repr=False)\n",
    "\n",
    "    def __post_init__(self, basis_blades: list[BasisBlade]):\n",
    "        for bb in basis_blades:\n",
    "            if self.blades.get(bb.basis, False):\n",
    "                # If basis blade already exists, sum the weights of the existing and new basis blade\n",
    "                existing_bb = self.blades[bb.basis]\n",
    "                self.blades[bb.basis] = BasisBlade(existing_bb.weight + bb.weight, existing_bb.basis)\n",
    "            else:\n",
    "                # If basis blade doesn't exist, create a new key-value pair for that basis blade\n",
    "                self.blades[bb.basis] = bb\n",
    "        object.__setattr__(self, 'prettyprint', \" + \".join(str(b) for b in self.blades.values()))\n",
    "\n",
    "    def __str__(self) -> str:\n",
    "        return self.prettyprint"
   ]
  },
  {
   "cell_type": "code",
   "execution_count": null,
   "metadata": {},
   "outputs": [
    {
     "data": {
      "text/plain": [
       "Multivector(blades={2: BasisBlade(weight=3.0, basis=2, basis_name='e2'), 3: BasisBlade(weight=-5.0, basis=3, basis_name='e12'), 0: BasisBlade(weight=12.2, basis=0, basis_name='s')})"
      ]
     },
     "execution_count": null,
     "metadata": {},
     "output_type": "execute_result"
    }
   ],
   "source": [
    "m = Multivector([BasisBlade(3.0, e2), BasisBlade(-5.0, e12), BasisBlade(12.2, scalar)])\n",
    "m"
   ]
  },
  {
   "cell_type": "code",
   "execution_count": null,
   "metadata": {},
   "outputs": [
    {
     "name": "stdout",
     "output_type": "stream",
     "text": [
      "3.0e2 + -5.0e12 + 12.2s\n"
     ]
    },
    {
     "data": {
      "text/plain": [
       "'3.0e2 + -5.0e12 + 12.2s'"
      ]
     },
     "execution_count": null,
     "metadata": {},
     "output_type": "execute_result"
    }
   ],
   "source": [
    "# Pretty printing like math notation\n",
    "print(m)\n",
    "str(m)"
   ]
  },
  {
   "cell_type": "markdown",
   "metadata": {},
   "source": [
    "### Addition"
   ]
  },
  {
   "cell_type": "markdown",
   "metadata": {},
   "source": [
    "Given that multivectors are a sum of weighted basis blades, we should implement an `add` function that accepts an arbitrary number of multivectors and/or basis blades and concatenates them into one multivector. Just like with real numbers, addition of multivectors is associative so we don't need to worry about the order of arguments."
   ]
  },
  {
   "cell_type": "markdown",
   "metadata": {},
   "source": [
    "Since we designed our multivector class to accept a list of basis blades, we can easily implement `add()` to take advantage of that.\n",
    "\n",
    "> \n",
    "> See [Arbitrary Arguments List](https://docs.python.org/3/tutorial/controlflow.html?highlight=unpack#arbitrary-argument-lists) for details on the `*args` syntax. In a nutshell, it combines a list of comma separated function arugments into a tuple called `args`.\n",
    ">\n",
    "> When `*` is prepended to specific iterables (like tuples or lists), it does the opposite, unpacking the elements of the iterable. So, to combine two lists, we can do `list_combined = [*list_a, *list_b]`."
   ]
  },
  {
   "cell_type": "code",
   "execution_count": null,
   "metadata": {},
   "outputs": [],
   "source": [
    "#|export\n",
    "def add(*args: list[Multivector|BasisBlade]) -> Multivector:\n",
    "    \"\"\"Add Multivectors and BasisBlades\"\"\"\n",
    "    basis_blades: list[BasisBlade] = list()\n",
    "    for m in args: \n",
    "        if isinstance(m, Multivector):\n",
    "            # Convert multivectors/basisblades to a list of BasisBlades\n",
    "            basis_blades = [*basis_blades, *list(m.blades.values())]\n",
    "        if isinstance(m, BasisBlade):\n",
    "            basis_blades = [*basis_blades, m]\n",
    "    return Multivector(basis_blades)"
   ]
  },
  {
   "cell_type": "code",
   "execution_count": null,
   "metadata": {},
   "outputs": [],
   "source": [
    "def add(*args: list[Multivector|BasisBlade]) -> Multivector:\n",
    "    \"\"\"Add Multivectors and BasisBlades\"\"\"\n",
    "    basis_blades: list[BasisBlade] = list()\n",
    "    for m in args: \n",
    "        if isinstance(m, Multivector):\n",
    "            # Convert multivectors/basisblades to a list of BasisBlades\n",
    "            basis_blades = [*basis_blades, *list(m.blades.values())]\n",
    "        if isinstance(m, BasisBlade):\n",
    "            basis_blades = [*basis_blades, m]\n",
    "    return Multivector(basis_blades)"
   ]
  },
  {
   "cell_type": "code",
   "execution_count": null,
   "metadata": {},
   "outputs": [
    {
     "name": "stdout",
     "output_type": "stream",
     "text": [
      "(2.0e1) + (4.0e12) + (-1.0e1) = e1 + 4.0e12\n"
     ]
    }
   ],
   "source": [
    "# Add BasisBlades\n",
    "b1 = BasisBlade(2.0, e1)\n",
    "b2 = BasisBlade(4.0, e12)\n",
    "b3 = BasisBlade(-1.0, e1)\n",
    "print(f'({b1}) + ({b2}) + ({b3}) = {add(b1, b2, b3)}')"
   ]
  },
  {
   "cell_type": "code",
   "execution_count": null,
   "metadata": {},
   "outputs": [
    {
     "name": "stdout",
     "output_type": "stream",
     "text": [
      "(e1 + 4.0e12) + (4.0e12 + -1.0e1) = 0.0e1 + 8.0e12\n"
     ]
    }
   ],
   "source": [
    "# Add Multivectors\n",
    "m1 = Multivector([b1, b2, b3])\n",
    "m2 = Multivector([b2, b3])\n",
    "print(f'({m1}) + ({m2}) = {add(m1, m2)}')"
   ]
  },
  {
   "cell_type": "code",
   "execution_count": null,
   "metadata": {},
   "outputs": [
    {
     "name": "stdout",
     "output_type": "stream",
     "text": [
      "(e1 + 4.0e12) + (4.0e12) = e1 + 8.0e12\n"
     ]
    }
   ],
   "source": [
    "# Add Multivectors and BasisBlades\n",
    "print(f'({m1}) + ({b2}) = {add(m1, b2)}')"
   ]
  },
  {
   "cell_type": "markdown",
   "metadata": {},
   "source": [
    "## Readings"
   ]
  },
  {
   "cell_type": "markdown",
   "metadata": {},
   "source": [
    "Geometric Algebra Primer (Suter, 2003)\n",
    "\n",
    "* Chapter 3 Introduction\n",
    "* Chapter 3.2 Multivectors"
   ]
  },
  {
   "cell_type": "markdown",
   "metadata": {},
   "source": [
    "## What's Next?"
   ]
  },
  {
   "cell_type": "markdown",
   "metadata": {},
   "source": [
    "We can add multivectors now, but how do we multiply them? The next notebook covers the most fundamental operation in Geometric Algebra: the geometric product."
   ]
  },
  {
   "cell_type": "markdown",
   "metadata": {},
   "source": []
  }
 ],
 "metadata": {
  "kernelspec": {
   "display_name": "Python 3.10.4 ('some2')",
   "language": "python",
   "name": "python3"
  }
 },
 "nbformat": 4,
 "nbformat_minor": 2
}
