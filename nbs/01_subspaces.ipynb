{
 "cells": [
  {
   "cell_type": "code",
   "execution_count": null,
   "metadata": {},
   "outputs": [],
   "source": [
    "#| default_exp subspaces"
   ]
  },
  {
   "cell_type": "markdown",
   "metadata": {},
   "source": [
    "# Subspaces\n",
    "\n",
    "> **Summary**: Vectors are 1D. Bivectors are 2D. Trivectors are 3D. n-vectors are nD. In general, these entities are called \"blades\". Basis Blades are basis n-vectors constructed with the wedge ($\\wedge$) product."
   ]
  },
  {
   "cell_type": "code",
   "execution_count": null,
   "metadata": {},
   "outputs": [],
   "source": [
    "#| export\n",
    "import matplotlib.pyplot as plt\n",
    "import numpy as np"
   ]
  },
  {
   "cell_type": "code",
   "execution_count": null,
   "metadata": {},
   "outputs": [],
   "source": [
    "import matplotlib.pyplot as plt\n",
    "import numpy as np"
   ]
  },
  {
   "cell_type": "code",
   "execution_count": null,
   "metadata": {},
   "outputs": [],
   "source": [
    "#| hide\n",
    "%matplotlib inline"
   ]
  },
  {
   "cell_type": "code",
   "execution_count": null,
   "metadata": {},
   "outputs": [],
   "source": [
    "plt.style.use('seaborn')"
   ]
  },
  {
   "cell_type": "markdown",
   "metadata": {},
   "source": [
    "## Vectors are 1-Dimensional"
   ]
  },
  {
   "cell_type": "markdown",
   "metadata": {},
   "source": [
    "Vectors represent lines, or 1D subspaces. Despite this, in Linear Algebra vectors are used to represent planes, albeit in an awkward way. Since vectors don't have enough dimensions to represent a plane, we construct normal vectors to represent them."
   ]
  },
  {
   "cell_type": "markdown",
   "metadata": {},
   "source": [
    "Instead, why not just have 2D vectors? Seems simple, but how do you construct 2D vectors?\n",
    "First, consider the opposite case of constructing a lower dimensional subspace. The dot product is an operator that takes two vectors and returns a scalar. Numerically, this is just a sum of the products of corresponding elements of each vector:\n",
    "\n",
    "For example, if we have $v_1 = [5, 12]$, and $v_2 = [-6, 8]$, the dot product is: $v_1 \\cdot v_2 = (5)(-6) + (12)(8) = 66$"
   ]
  },
  {
   "cell_type": "code",
   "execution_count": null,
   "metadata": {},
   "outputs": [
    {
     "data": {
      "text/plain": [
       "66.0"
      ]
     },
     "execution_count": null,
     "metadata": {},
     "output_type": "execute_result"
    }
   ],
   "source": [
    "vec1 = np.array([5., 12.])\n",
    "vec2 = np.array([-6., 8.])\n",
    "np.dot(vec1, vec2)"
   ]
  },
  {
   "cell_type": "markdown",
   "metadata": {},
   "source": [
    "But geometrically, you can interpret the dot product as the length of $v_1$ multiplied by the length of the projection of $v_2$ onto $v_1$:"
   ]
  },
  {
   "cell_type": "code",
   "execution_count": null,
   "metadata": {},
   "outputs": [],
   "source": [
    "#| export\n",
    "def calc_projection_vector(vec1: np.ndarray, vec2: np.ndarray) -> np.ndarray:\n",
    "    \"\"\"Calculate the projection vector of vec1 onto vec2\"\"\"\n",
    "    vec2_magnitude = np.linalg.norm(vec2) \n",
    "    projection_magnitude = (np.dot(vec1, vec2) / vec2_magnitude)\n",
    "    projection_direction = vec2 / vec2_magnitude\n",
    "    projection_vec = projection_magnitude * projection_direction\n",
    "    return projection_vec"
   ]
  },
  {
   "cell_type": "code",
   "execution_count": null,
   "metadata": {},
   "outputs": [],
   "source": [
    "def calc_projection_vector(vec1: np.ndarray, vec2: np.ndarray) -> np.ndarray:\n",
    "    \"\"\"Calculate the projection vector of vec1 onto vec2\"\"\"\n",
    "    vec2_magnitude = np.linalg.norm(vec2) \n",
    "    projection_magnitude = (np.dot(vec1, vec2) / vec2_magnitude)\n",
    "    projection_direction = vec2 / vec2_magnitude\n",
    "    projection_vec = projection_magnitude * projection_direction\n",
    "    return projection_vec"
   ]
  },
  {
   "cell_type": "code",
   "execution_count": null,
   "metadata": {},
   "outputs": [],
   "source": [
    "#| export\n",
    "def plot_dot_product(vec1: np.ndarray, vec2: np.ndarray) -> plt.Figure:\n",
    "    \"\"\"Visualize the dot product\"\"\"\n",
    "    fig, ax = plt.subplots(1, 1)\n",
    "    origin = np.array([0, 0])\n",
    "    colors = ('r', 'b')\n",
    "    for color, vec in zip(colors, (vec1, vec2)):\n",
    "        ax.quiver(*origin, *vec, scale=1, scale_units='xy', width=0.01, color=[color],\n",
    "            label=f'len={round(np.linalg.norm(vec), 2)}'\n",
    "        )\n",
    "    try:\n",
    "        projected_vector = calc_projection_vector(vec1, vec2)\n",
    "        ax.quiver(*origin, *projected_vector, scale=1, scale_units='xy', width=0.01, color=['g'], \n",
    "            label=f'len={round(np.linalg.norm(projected_vector), 2)}'\n",
    "        )\n",
    "        projection_line = np.array([projected_vector, vec1]).T\n",
    "        ax.plot(*projection_line)\n",
    "        \n",
    "    except ZeroDivisionError as zerr:\n",
    "        print('Encountered zero division! Cannot plot projected vector')\n",
    "    ax.set_title(f'Projection Vectors (Dot Product={np.dot(vec1, vec2)})')\n",
    "    ax.set_aspect('equal')\n",
    "    ax.set_xlim([-10., 10])\n",
    "    return fig"
   ]
  },
  {
   "cell_type": "code",
   "execution_count": null,
   "metadata": {},
   "outputs": [],
   "source": [
    "def plot_dot_product(vec1: np.ndarray, vec2: np.ndarray) -> plt.Figure:\n",
    "    \"\"\"Visualize the dot product\"\"\"\n",
    "    fig, ax = plt.subplots(1, 1)\n",
    "    origin = np.array([0, 0])\n",
    "    colors = ('r', 'b')\n",
    "    for color, vec in zip(colors, (vec1, vec2)):\n",
    "        ax.quiver(*origin, *vec, scale=1, scale_units='xy', width=0.01, color=[color],\n",
    "            label=f'len={round(np.linalg.norm(vec), 2)}'\n",
    "        )\n",
    "    try:\n",
    "        projected_vector = calc_projection_vector(vec1, vec2)\n",
    "        ax.quiver(*origin, *projected_vector, scale=1, scale_units='xy', width=0.01, color=['g'], \n",
    "            label=f'len={round(np.linalg.norm(projected_vector), 2)}'\n",
    "        )\n",
    "        projection_line = np.array([projected_vector, vec1]).T\n",
    "        ax.plot(*projection_line)\n",
    "    except ZeroDivisionError as zerr:\n",
    "        print('Encountered zero division! Cannot plot projected vector')\n",
    "    ax.set_title(f'Projection Vectors (Dot Product={np.dot(vec1, vec2)})')\n",
    "    ax.set_aspect('equal')\n",
    "    ax.set_xlim([-10., 10])\n",
    "    return fig"
   ]
  },
  {
   "cell_type": "code",
   "execution_count": null,
   "metadata": {},
   "outputs": [
    {
     "data": {
      "image/png": "[encoded data removed]",
      "text/plain": [
       "<Figure size 576x396 with 1 Axes>"
      ]
     },
     "metadata": {},
     "output_type": "display_data"
    }
   ],
   "source": [
    "fig = plot_dot_product(vec1, vec2)\n",
    "plt.legend(bbox_to_anchor=(1.04, 0.6))\n",
    "plt.show()"
   ]
  },
  {
   "cell_type": "markdown",
   "metadata": {},
   "source": [
    "Lowering the dimensionality of the subspace has to do with projection. To get a higher dimensional subspace, we need to do the opposite of projection, i.e extension."
   ]
  },
  {
   "cell_type": "markdown",
   "metadata": {},
   "source": [
    "## Bivectors"
   ]
  },
  {
   "cell_type": "markdown",
   "metadata": {},
   "source": [
    "We can construct a 2D object by extending the two vectors into a parallelogram. This new 2D object is called a bivector, or a 2-vector. In math notation we write $a \\wedge b$."
   ]
  },
  {
   "cell_type": "markdown",
   "metadata": {},
   "source": [
    "Alternatively, we can decompose $a$ and $b$ into each orthogonal (perpendicular) basis. This is exactly like splitting a vector into it's $x$ and $y$ components, although in the geometric algebra literature it's common to refer to the bases as $e_1$ and $e_2$.\n",
    "\n",
    "For example, $a = \\alpha_1 e_1 + \\alpha_2 e_2$ and $b = \\beta_1 e_1 + \\beta_2 e_2$, where the greek letters are scalars. You can see the full derivation in the [Geometric Algebra Primer (Chapter 2.1.1)](http://www.jaapsuter.com/geometric-algebra.pdf), but know that $a \\wedge b = (\\alpha_1 \\beta_2 - \\alpha_2 \\beta_1) e_1 \\wedge e_2$.\n",
    "\n",
    "[Notice anything about $(\\alpha_1 \\beta_2 - \\alpha_2 \\beta_1) e_1 \\wedge e_2$? The scalar factor is the determinant of a $2\\times 2$ matrix. The value corresponds to the area of a parallelogram created by the vectors $a$ and $b$.]{.aside}\n",
    "\n",
    "> Note that people tend to abbreviate $e_1 \\wedge e_2$ as $e_{12}$.\n",
    "\n",
    "{{< pagebreak >}}\n"
   ]
  },
  {
   "cell_type": "code",
   "execution_count": null,
   "metadata": {},
   "outputs": [],
   "source": [
    "#| export\n",
    "def plot_bivector(vec1: np.ndarray, vec2: np.ndarray) -> plt.Figure:\n",
    "    \"\"\"Plot a bivector given two vectors\"\"\"\n",
    "    origin = np.array([0., 0.])\n",
    "    vectors = (vec1, vec2, -vec1, -vec2)\n",
    "    colors = ('r', 'g', 'b', 'y')\n",
    "    fig, ax = plt.subplots(1, 1)\n",
    "    for color, vec in zip(colors, vectors):\n",
    "        ax.quiver(*origin, *vec, scale=1, scale_units='xy', width=0.02, color=[color])\n",
    "        origin += vec\n",
    "    ax.set_title('Bivector')\n",
    "    ax.set_aspect('equal')\n",
    "    return fig"
   ]
  },
  {
   "cell_type": "code",
   "execution_count": null,
   "metadata": {},
   "outputs": [],
   "source": [
    "def plot_bivector(vec1: np.ndarray, vec2: np.ndarray) -> plt.Figure:\n",
    "    \"\"\"Plot a bivector given two vectors\"\"\"\n",
    "    origin = np.array([0., 0.])\n",
    "    vectors = (vec1, vec2, -vec1, -vec2)\n",
    "    colors = ('r', 'g', 'b', 'y')\n",
    "    fig, ax = plt.subplots(1, 1)\n",
    "    for color, vec in zip(colors, vectors):\n",
    "        ax.quiver(*origin, *vec, scale=1, scale_units='xy', width=0.02, color=[color])\n",
    "        origin += vec\n",
    "    ax.set_title('Bivector')\n",
    "    ax.set_aspect('equal')\n",
    "    return fig"
   ]
  },
  {
   "cell_type": "code",
   "execution_count": null,
   "metadata": {},
   "outputs": [
    {
     "data": {
      "image/png": "[encoded data removed]",
      "text/plain": [
       "<Figure size 576x396 with 1 Axes>"
      ]
     },
     "metadata": {},
     "output_type": "display_data"
    }
   ],
   "source": [
    "fig = plot_bivector(vec1, vec2)\n",
    "plt.show()"
   ]
  },
  {
   "cell_type": "code",
   "execution_count": null,
   "metadata": {},
   "outputs": [
    {
     "data": {
      "image/png": "[encoded data removed]",
      "text/plain": [
       "<Figure size 576x396 with 1 Axes>"
      ]
     },
     "metadata": {},
     "output_type": "display_data"
    }
   ],
   "source": [
    "# A bivector with the same magnitude, but opposite orientation\n",
    "fig = plot_bivector(vec2, vec1)\n",
    "plt.show()"
   ]
  },
  {
   "cell_type": "markdown",
   "metadata": {},
   "source": [
    "Notice that orientation matters! We use positive and negative signs to denote orientation, so $a \\wedge b = - b \\wedge a$"
   ]
  },
  {
   "cell_type": "markdown",
   "metadata": {},
   "source": [
    "We aren't just restricted to bivectors. There are many vectors of arbitrary dimension, which we call **blades**:\n",
    "\n",
    "* Scalars are 0-blades \n",
    "    * 2, 42, $\\tau$, 13.6, $\\pi$, etc\n",
    "* The vectors we are used to from Linear Algebra are 1-blades \n",
    "    * $v = 102e_1 + 4e_2 + 69e_3 - 30e_4$\n",
    "* Bivectors are 2-blades\n",
    "    * $A = 420 e_1 \\wedge e_2$ ('A' for area)\n",
    "* Trivectors are 3-blades\n",
    "    * $V = -256 e_1 \\wedge e_2 \\wedge e_3$ ('v' for volume)\n",
    "* k-vectors are k-blades\n",
    "    * $C = 1.618 e_1 \\wedge e_2 \\wedge ... \\wedge e_k$ (no reason for 'C')\n",
    "\n",
    "The number in front of the word blade, like 2 or $k$, is the **grade** of the blade.\n",
    "\n",
    "> Note that you can have a k-dimensional blade existing in a n-dimensional space, as long as $k \\leq n$. "
   ]
  },
  {
   "cell_type": "markdown",
   "metadata": {},
   "source": [
    "## Readings"
   ]
  },
  {
   "cell_type": "markdown",
   "metadata": {},
   "source": [
    "Geometric Algebra Primer (Suter, 2003)\n",
    "\n",
    "* Chapter 2 Introduction\n",
    "* Chapter 2.1 Bivectors\n",
    "* Chapter 2.3 Blades"
   ]
  },
  {
   "cell_type": "markdown",
   "metadata": {},
   "source": [
    "## What's Next?"
   ]
  },
  {
   "cell_type": "markdown",
   "metadata": {},
   "source": [
    "Next, we look at representing basis blades on a computer."
   ]
  }
 ],
 "metadata": {
  "kernelspec": {
   "display_name": "Python 3.10.4 ('some2')",
   "language": "python",
   "name": "python3"
  }
 },
 "nbformat": 4,
 "nbformat_minor": 2
}
