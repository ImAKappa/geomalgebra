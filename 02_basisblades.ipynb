{
 "cells": [
  {
   "cell_type": "code",
   "execution_count": null,
   "metadata": {},
   "outputs": [],
   "source": [
    "#| default_exp basisblades"
   ]
  },
  {
   "cell_type": "markdown",
   "metadata": {},
   "source": [
    "# Basis Blades\n",
    "\n",
    "> Basis blades span the entire space.\n",
    ">\n",
    "> They are implemented using binary numbers."
   ]
  },
  {
   "cell_type": "code",
   "execution_count": null,
   "metadata": {},
   "outputs": [],
   "source": [
    "from dataclasses import dataclass, field\n",
    "from collections import namedtuple"
   ]
  },
  {
   "cell_type": "markdown",
   "metadata": {},
   "source": [
    "## What's a Basis?\n",
    "\n",
    "Basis: A finite set $\\mathcal{B} = \\{\\vec{b_1}, \\vec{b_2}, ..., \\vec{b_n}\\}$ of vectors in a vector space $\\vec{V}$ is a _basis_ for $\\vec{V}$ if every vector in $\\vec{V}$ is a linear combination of the vectors in $\\mathcal{B}$ in one and only one way.\n",
    "\n",
    "> Definition from [Linear and Geometric Algebra Chapter 2.5 Bases (MacDonald, 2011)](http://www.faculty.luther.edu/~macdonal/laga/)\n",
    ">\n",
    "> I highly recommend checking out [3Blue1Brown's explanation of Bases & Linear Combinations](https://youtu.be/k7RM-ot2NWY) for a more intuitive explanation\n",
    "\n",
    "In Geometric Algebra, we have basis blades ($k$-dimensional vectors) which are denoted with $e_i$ instead of $\\vec{b}_i$."
   ]
  },
  {
   "cell_type": "markdown",
   "metadata": {},
   "source": [
    "## Implementation"
   ]
  },
  {
   "cell_type": "markdown",
   "metadata": {},
   "source": [
    "\n",
    "In 3D we have 8 basis $k$-blades: \n",
    "\n",
    "* 0-blades (scalars): $1$,\n",
    "* 1-blades (vectors): $e_1, e_2, e_3$\n",
    "* 2-blades (bivectors): $e_{12}, e_{13}, e_{23}$\n",
    "* 3-blades (trivectors): $e_{123}$\n",
    "\n",
    "Notice that every basis blade either contains a basis vector or it doesn't. For the 3D example, $e_{12}$ contains $e_1$ and $e_2$, but doesn't contain $e_3$.\n",
    "In other words, we can encode every basis blade by the presence or absence of each basis blade. \n",
    "We use a bit to encode presence (1) or absence (0), and denote the basis blade by the position of each bit:\n",
    "\n",
    "$$\n",
    "{0 \\atop e3} {0 \\atop e2} {0 \\atop e1}\n",
    "$$\n",
    "\n",
    "Therefore the whole space of 3D is encoded like this:\n",
    "\n",
    "* scalar: $000$\n",
    "* $e_1$: $001$\n",
    "* $e_2$: $010$\n",
    "* $e_3$: $100$\n",
    "* $e_{12}$: $011$\n",
    "* $e_{13}$: $101$\n",
    "* $e_{23}$: $110$\n",
    "* $e_{123}$: $111$\n",
    "\n",
    ":::{.column-margin}\n",
    "In general, we need $2^n$ bits to represent all basis blades of a $n$-dimensional space\n",
    ":::"
   ]
  },
  {
   "cell_type": "markdown",
   "metadata": {},
   "source": [
    "For simplicity, we'll stick to 2 dimensions for our impelementation. In 2D we have 4 basis $k$-blades: $1$ (unit scalar), $e1$, $e2$, and the unit bivector, $e_{12}$."
   ]
  },
  {
   "cell_type": "markdown",
   "metadata": {},
   "source": [
    "Computers store numbers in binary already, but Python defaults to printing numbers out in decimal. We can write binary numbers in Python as a string or integer, so we choose integer for convenience."
   ]
  },
  {
   "cell_type": "code",
   "execution_count": null,
   "metadata": {},
   "outputs": [
    {
     "name": "stdout",
     "output_type": "stream",
     "text": [
      "0b101 5\n",
      "5\n"
     ]
    }
   ],
   "source": [
    "# Binary string - must explicity convert to int\n",
    "print('0b101', int('0b101', 2))\n",
    "# Binary integer\n",
    "print(0b101)"
   ]
  },
  {
   "cell_type": "markdown",
   "metadata": {},
   "source": [
    "We could use a list to store all the binary numbers for each basis, but `namedtuple`s are more readable.\n",
    "\n",
    "> Plus, when we import basis blades into other notebooks, we can import the tuple instead of each individual basis blade."
   ]
  },
  {
   "cell_type": "code",
   "execution_count": null,
   "metadata": {},
   "outputs": [
    {
     "data": {
      "text/plain": [
       "GA2D(scalar=0, e1=1, e2=2, e12=3)"
      ]
     },
     "execution_count": null,
     "metadata": {},
     "output_type": "execute_result"
    }
   ],
   "source": [
    "GA2D = namedtuple('GA2D', ['scalar', 'e1', 'e2', 'e12'])\n",
    "ga2d = GA2D(0b00, 0b01, 0b10, 0b11)\n",
    "ga2d"
   ]
  },
  {
   "cell_type": "code",
   "execution_count": null,
   "metadata": {},
   "outputs": [],
   "source": [
    "# For convenience, we unpack the basis blades into the global scope\n",
    "scalar, e1, e2, e12 = ga2d"
   ]
  },
  {
   "cell_type": "markdown",
   "metadata": {},
   "source": [
    "### Weighted Basis Blades"
   ]
  },
  {
   "cell_type": "markdown",
   "metadata": {},
   "source": [
    "While basis blades are defined with a weight of 1.0, we could associate a custom weight value to each basis blade using a class. This makes it easier to implement multivectors in later notebooks, since multivectors are a sum of weighted basis blades.\n",
    "\n",
    "In our Python implementation, we group together the weight and basis data using a `dataclass`."
   ]
  },
  {
   "cell_type": "code",
   "execution_count": null,
   "metadata": {},
   "outputs": [],
   "source": [
    "@dataclass(frozen=True)\n",
    "class BasisBlade:\n",
    "    # --- Class variables (defined without type hint); shared by all BasisBlades\n",
    "    bit_bases2d = {0b0: 's', 0b1: 'e1', 0b10: 'e2', 0b11: 'e12'}\n",
    "\n",
    "    # --- Instance variables; made \"immutable\" by frozen=True\n",
    "    # a.k.a scale or magnitude associated with blade\n",
    "    weight: float = field(default=0.)\n",
    "    # integer encoding \n",
    "    basis: int = field(default=0)\n",
    "    # basis_name depends on basis, so it can only be set post-initialization\n",
    "    basis_name: str = field(init=False)\n",
    "\n",
    "    def __post_init__(self):\n",
    "        # Update the \"immutable\" basis_name field\n",
    "        object.__setattr__(self, 'basis_name', self.bit_bases2d.get(self.basis))\n",
    "\n",
    "    def __str__(self) -> str:\n",
    "        \"\"\"Pretty print like math notation\"\"\"\n",
    "        prettyprint = f'{self.weight if self.weight != 1 else \"\"}{self.basis_name}'\n",
    "        return prettyprint"
   ]
  },
  {
   "cell_type": "markdown",
   "metadata": {},
   "source": [
    "The `dataclass` decorator automagically implements useful methods for our `BasisBlade` class like `__eq__`, `__repr__`, `__init__`, and more. See this [mCoding video](https://youtu.be/vBH6GRJ1REM) for an overview, and the [dataclasses docs](https://docs.python.org/3/library/dataclasses.html) for details.\n",
    "\n",
    "Also note that `bit_bases2d` is a _class variable_ which means every instance of this class shares the same `bit_bases2d`. Contrast this with the _instance variables_ `weight`, `basis`, and `basis_name`.\n",
    "\n",
    "Finally, note that we use `object.__set_attr__(...)` to modify the `BasisBlade.basis_name` attribute, despite the class being \"frozen\". This is the only time a `BasisBlade` attribute needs to change post-initialization. See [this StackOverflow post](https://stackoverflow.com/questions/53756788/how-to-set-the-value-of-dataclass-field-in-post-init-when-frozen-true) for more details."
   ]
  },
  {
   "cell_type": "code",
   "execution_count": null,
   "metadata": {},
   "outputs": [
    {
     "data": {
      "text/plain": [
       "BasisBlade(weight=4.0, basis=1, basis_name='e1')"
      ]
     },
     "execution_count": null,
     "metadata": {},
     "output_type": "execute_result"
    }
   ],
   "source": [
    "# example basis blade\n",
    "BasisBlade(4.0, e1)"
   ]
  },
  {
   "cell_type": "markdown",
   "metadata": {},
   "source": [
    "The `BasisBlade` class supports pretty printing like math notation"
   ]
  },
  {
   "cell_type": "code",
   "execution_count": null,
   "metadata": {},
   "outputs": [
    {
     "name": "stdout",
     "output_type": "stream",
     "text": [
      "4.0e1\n",
      "e12\n",
      "-12.0s\n"
     ]
    }
   ],
   "source": [
    "# Weight and basis\n",
    "print(BasisBlade(4.0, e1))\n",
    "# If weight=1. than only basis shown\n",
    "print(BasisBlade(1.0, e12))\n",
    "# 's' (for scalar) helps distinguish BasisBlade class instance from Python floats\n",
    "print(BasisBlade(-12., scalar))"
   ]
  },
  {
   "cell_type": "code",
   "execution_count": null,
   "metadata": {},
   "outputs": [
    {
     "data": {
      "text/plain": [
       "True"
      ]
     },
     "execution_count": null,
     "metadata": {},
     "output_type": "execute_result"
    }
   ],
   "source": [
    "# dataclass automagically implements __eq__ method for us\n",
    "BasisBlade(-3.4, e2) == BasisBlade(-3.4, e2)"
   ]
  },
  {
   "cell_type": "markdown",
   "metadata": {},
   "source": [
    "Besides `__eq__`, no other operators are overloaded! This keeps the `BasisBlade` class small, and makes the implementation of operators simpler to understand.\n",
    "\n",
    "> Of course, lack of operator overloading makes our implementation more inconvenient to use. For a fully-featured, operator overloaded Geometric Algebra library see [Clifford](https://github.com/pygae/clifford)"
   ]
  },
  {
   "cell_type": "code",
   "execution_count": null,
   "metadata": {},
   "outputs": [
    {
     "name": "stdout",
     "output_type": "stream",
     "text": [
      "unsupported operand type(s) for *: 'float' and 'BasisBlade'\n"
     ]
    }
   ],
   "source": [
    "# We cannot multiply floats and BasisBlades using '*' without operator overloading!\n",
    "try:\n",
    "    3.4 * BasisBlade(1., e1)\n",
    "except TypeError as err:\n",
    "    print(err)"
   ]
  },
  {
   "cell_type": "markdown",
   "metadata": {},
   "source": [
    "## Readings"
   ]
  },
  {
   "cell_type": "markdown",
   "metadata": {},
   "source": [
    "Chapter 2.3 Basis Blades"
   ]
  },
  {
   "cell_type": "markdown",
   "metadata": {},
   "source": [
    "## What's Next?"
   ]
  },
  {
   "cell_type": "markdown",
   "metadata": {},
   "source": [
    "Next, we implement multivectors."
   ]
  },
  {
   "cell_type": "code",
   "execution_count": null,
   "metadata": {},
   "outputs": [],
   "source": [
    "#| hide\n",
    "from nbdev import nbdev_export\n",
    "nbdev_export()"
   ]
  }
 ],
 "metadata": {
  "kernelspec": {
   "display_name": "Python 3.10.4 ('some2')",
   "language": "python",
   "name": "python3"
  }
 },
 "nbformat": 4,
 "nbformat_minor": 2
}
