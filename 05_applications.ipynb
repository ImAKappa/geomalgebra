{
 "cells": [
  {
   "cell_type": "code",
   "execution_count": 1,
   "metadata": {},
   "outputs": [],
   "source": [
    "#| default_exp applications"
   ]
  },
  {
   "cell_type": "markdown",
   "metadata": {},
   "source": [
    "# Applicatons\n",
    "\n",
    "> Geometric Algebra has a number of geometrical applications. Who would have thought?"
   ]
  },
  {
   "cell_type": "code",
   "execution_count": 16,
   "metadata": {},
   "outputs": [],
   "source": [
    "#| export\n",
    "import matplotlib.pyplot as plt\n",
    "import numpy as np\n",
    "from geomalgebra.basisblades import BasisBlade, ga2d\n",
    "from geomalgebra.multivectors import Multivector, add\n",
    "from geomalgebra.products import basis_blade_gp, gp"
   ]
  },
  {
   "cell_type": "code",
   "execution_count": 17,
   "metadata": {},
   "outputs": [],
   "source": [
    "import matplotlib.pyplot as plt\n",
    "import numpy as np\n",
    "from geomalgebra.basisblades import BasisBlade, ga2d\n",
    "from geomalgebra.multivectors import Multivector, add\n",
    "from geomalgebra.products import basis_blade_gp, gp"
   ]
  },
  {
   "cell_type": "code",
   "execution_count": 18,
   "metadata": {},
   "outputs": [],
   "source": [
    "#| hide\n",
    "%matplotlib inline"
   ]
  },
  {
   "cell_type": "code",
   "execution_count": 22,
   "metadata": {},
   "outputs": [],
   "source": [
    "plt.style.use('seaborn')"
   ]
  },
  {
   "cell_type": "code",
   "execution_count": 19,
   "metadata": {},
   "outputs": [],
   "source": [
    "# For convenience, we unpack the basis blades into the global scope\n",
    "scalar, e1, e2, e12 = ga2d"
   ]
  },
  {
   "cell_type": "markdown",
   "metadata": {},
   "source": [
    "## Spinors"
   ]
  },
  {
   "cell_type": "markdown",
   "metadata": {},
   "source": [
    "If you're familiar with complex numbers, you may know that multiplication with complex numbers is related to rotations in 2D. Similarly, quarternions are useful for representing 3D rotations. \n",
    "\n",
    "But in geometric algebra, you can have any dimensional rotations using something called a **spinor**. In 2D, spinors are bivectors, which are basically act like complex numbers."
   ]
  },
  {
   "cell_type": "code",
   "execution_count": 20,
   "metadata": {},
   "outputs": [],
   "source": [
    "#| export\n",
    "def plot_vector(b: BasisBlade, ax: plt.Axes):\n",
    "    if (b.basis == e12) or (b.basis == scalar): raise ValueError('Sorry, I just plot vectors!')\n",
    "    origin = [0, 0]\n",
    "    if b.basis == e1:\n",
    "        vec = [b.weight, 0]\n",
    "    elif b.basis == e2:\n",
    "        vec = [0, b.weight]\n",
    "    ax.quiver(*origin, *[1, 2], scale=1, scale_units='xy', width=0.02, color=['r'])\n",
    "    return"
   ]
  },
  {
   "cell_type": "code",
   "execution_count": 29,
   "metadata": {},
   "outputs": [
    {
     "data": {
      "image/png": "[encoded data removed]",
      "text/plain": [
       "<Figure size 576x396 with 1 Axes>"
      ]
     },
     "metadata": {},
     "output_type": "display_data"
    }
   ],
   "source": [
    "fig, ax = plt.subplots(1, 1)\n",
    "origin = np.array([0, 0])\n",
    "vec = np.array([12., 2.])\n",
    "ax.quiver(*origin, *vec, angles='xy', scale_units='xy', scale=1)\n",
    "ax.quiver(*origin, *(vec + 1.), angles='xy', scale_units='xy', scale=1, color=['r'])\n",
    "ax.set_aspect('equal')\n",
    "# ax.plot(np.arange(5), np.arange(5))\n",
    "plt.show()"
   ]
  },
  {
   "cell_type": "code",
   "execution_count": 10,
   "metadata": {},
   "outputs": [
    {
     "data": {
      "text/plain": [
       "[<matplotlib.lines.Line2D at 0x7f7b981c7160>]"
      ]
     },
     "execution_count": 10,
     "metadata": {},
     "output_type": "execute_result"
    }
   ],
   "source": []
  },
  {
   "cell_type": "code",
   "execution_count": null,
   "metadata": {},
   "outputs": [],
   "source": [
    "#| export\n",
    "def plot_bivector(b: BasisBlade, ax: plt.Axes) -> plt.Axes:\n",
    "    if not (b.basis == e12): raise ValueError('Sorry, I just plot bivectors!')\n",
    "    return ax"
   ]
  },
  {
   "cell_type": "code",
   "execution_count": null,
   "metadata": {},
   "outputs": [],
   "source": [
    "#| export\n",
    "def plot_basis_blade(*args: tuple[BasisBlade]) -> plt.Figure:\n",
    "    # Get components\n",
    "    # Plot scalar, vector, or bivector\n",
    "    return"
   ]
  },
  {
   "cell_type": "markdown",
   "metadata": {},
   "source": [
    "## Reading"
   ]
  },
  {
   "cell_type": "markdown",
   "metadata": {},
   "source": [
    "Geometric Algebra Primer (Suter, 2003)\n",
    "\n",
    "* Chapter 5 Applications Introduction\n",
    "* Chapter 5.1 The Euclidean Plane"
   ]
  },
  {
   "cell_type": "markdown",
   "metadata": {},
   "source": []
  }
 ],
 "metadata": {
  "kernelspec": {
   "display_name": "Python 3.10.4 ('some2')",
   "language": "python",
   "name": "python3"
  },
  "language_info": {
   "codemirror_mode": {
    "name": "ipython",
    "version": 3
   },
   "file_extension": ".py",
   "mimetype": "text/x-python",
   "name": "python",
   "nbconvert_exporter": "python",
   "pygments_lexer": "ipython3",
   "version": "3.10.4"
  },
  "vscode": {
   "interpreter": {
    "hash": "3714ce5e85dbfc919b885aa48abce75041fb06c432f229ebad0674994ef02063"
   }
  }
 },
 "nbformat": 4,
 "nbformat_minor": 2
}
