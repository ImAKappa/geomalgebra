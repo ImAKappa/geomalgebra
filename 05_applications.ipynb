{
 "cells": [
  {
   "cell_type": "code",
   "execution_count": null,
   "metadata": {},
   "outputs": [],
   "source": [
    "#| default_exp applications"
   ]
  },
  {
   "cell_type": "markdown",
   "metadata": {},
   "source": [
    "# Applicatons\n",
    "\n",
    "> Geometric Algebra has a number of geometrical applications. Who would have thought?"
   ]
  },
  {
   "cell_type": "code",
   "execution_count": null,
   "metadata": {},
   "outputs": [],
   "source": [
    "#| export\n",
    "import matplotlib.pyplot as plt\n",
    "\n",
    "from geomalgebra.basisblades import BasisBlade, ga2d\n",
    "from geomalgebra.multivectors import Multivector, add\n",
    "from geomalgebra.products import basis_blade_gp, gp"
   ]
  },
  {
   "cell_type": "code",
   "execution_count": null,
   "metadata": {},
   "outputs": [],
   "source": [
    "import matplotlib.pyplot as plt\n",
    "\n",
    "from geomalgebra.basisblades import BasisBlade, ga2d\n",
    "from geomalgebra.multivectors import Multivector, add\n",
    "from geomalgebra.products import basis_blade_gp, gp"
   ]
  },
  {
   "cell_type": "markdown",
   "metadata": {},
   "source": [
    "## Spinors"
   ]
  },
  {
   "cell_type": "markdown",
   "metadata": {},
   "source": [
    "If you're familiar with complex numbers, you may know that multiplication with complex numbers is related to rotations in 2D. Similarly, quarternions are useful for representing 3D rotations. \n",
    "\n",
    "But in geometric algebra, you can have any dimensional rotations using something called a **spinor**. In 2D, spinors are equivalent to complex numbers."
   ]
  },
  {
   "cell_type": "code",
   "execution_count": null,
   "metadata": {},
   "outputs": [],
   "source": [
    "#| export\n",
    "def plot_vector(b: BasisBlade, ax: plt.Axes) -> plt.Axes:\n",
    "\n",
    "    return ax\n",
    "\n",
    "def plot_bivector(b: BasisBlade, ax: plt.Axes) -> plt.Axes:\n",
    "\n",
    "    return ax\n",
    "\n",
    "def plot_basis_blade(*args: tuple[BasisBlade]) -> plt.Figure:\n",
    "    # Get components\n",
    "    # Plot scalar, vector, or bivector\n",
    "    return"
   ]
  },
  {
   "cell_type": "code",
   "execution_count": null,
   "metadata": {},
   "outputs": [],
   "source": []
  },
  {
   "cell_type": "code",
   "execution_count": null,
   "metadata": {},
   "outputs": [],
   "source": []
  },
  {
   "cell_type": "markdown",
   "metadata": {},
   "source": [
    "## Reading"
   ]
  },
  {
   "cell_type": "markdown",
   "metadata": {},
   "source": [
    "Geometric Algebra Primer (Suter, 2003)\n",
    "\n",
    "* Chapter 5 Applications Introduction\n",
    "* Chapter 5.1 The Euclidean Plane"
   ]
  },
  {
   "cell_type": "markdown",
   "metadata": {},
   "source": []
  }
 ],
 "metadata": {
  "kernelspec": {
   "display_name": "Python 3.10.4 ('some2')",
   "language": "python",
   "name": "python3"
  }
 },
 "nbformat": 4,
 "nbformat_minor": 2
}
